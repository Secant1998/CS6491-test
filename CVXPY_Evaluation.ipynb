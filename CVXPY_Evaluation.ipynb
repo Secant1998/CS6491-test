{
 "cells": [
  {
   "cell_type": "markdown",
   "metadata": {},
   "source": [
    "Least Squares"
   ]
  },
  {
   "cell_type": "code",
   "execution_count": 2,
   "metadata": {},
   "outputs": [
    {
     "name": "stdout",
     "output_type": "stream",
     "text": [
      "\n",
      "The optimal value is 7.005909828287484\n",
      "The optimal x is\n",
      "[ 0.17492418 -0.38102551  0.34732251  0.0173098  -0.0845784  -0.08134019\n",
      "  0.293119    0.27019762  0.17493179 -0.23953449  0.64097935 -0.41633637\n",
      "  0.12799688  0.1063942  -0.32158411]\n",
      "The norm of the residual is  2.646867928002356\n",
      "time: 0.005004405975341797\n"
     ]
    }
   ],
   "source": [
    "# Import packages.\n",
    "import time\n",
    "import cvxpy as cp\n",
    "import numpy as np\n",
    "\n",
    "\n",
    "time_begin = time.time()\n",
    "\n",
    "# Generate data.\n",
    "m = 20\n",
    "n = 15\n",
    "np.random.seed(1)\n",
    "A = np.random.randn(m, n)\n",
    "b = np.random.randn(m)\n",
    "\n",
    "# Define and solve the CVXPY problem.\n",
    "x = cp.Variable(n)\n",
    "cost = cp.sum_squares(A @ x - b)\n",
    "prob = cp.Problem(cp.Minimize(cost))\n",
    "prob.solve()\n",
    "\n",
    "# Print result.\n",
    "print(\"\\nThe optimal value is\", prob.value)\n",
    "print(\"The optimal x is\")\n",
    "print(x.value)\n",
    "print(\"The norm of the residual is \", cp.norm(A @ x - b, p=2).value)\n",
    "\n",
    "\n",
    "time_end = time.time()\n",
    "\n",
    "time = time_end - time_begin\n",
    "\n",
    "print('time:', time)"
   ]
  },
  {
   "cell_type": "markdown",
   "metadata": {},
   "source": [
    "Linear"
   ]
  },
  {
   "cell_type": "code",
   "execution_count": 3,
   "metadata": {
    "scrolled": true
   },
   "outputs": [
    {
     "name": "stdout",
     "output_type": "stream",
     "text": [
      "\n",
      "The optimal value is -15.220912605552895\n",
      "A solution x is\n",
      "[-1.10133381 -0.16360111 -0.89734939  0.03216603  0.6069123  -1.12687348\n",
      "  1.12967856  0.88176638  0.49075229  0.8984822 ]\n",
      "A dual solution is\n",
      "[6.98804552e-10 6.11756416e-01 5.28171747e-01 1.07296862e+00\n",
      " 3.93758801e-09 2.30153870e+00 4.25703972e-10 7.61206896e-01\n",
      " 8.36905707e-09 2.49370377e-01 1.30187001e-09 2.06014070e+00\n",
      " 3.22417207e-01 3.84054343e-01 1.59493616e-09]\n",
      "time: 0.0050048828125\n"
     ]
    }
   ],
   "source": [
    "# Import packages.\n",
    "import cvxpy as cp\n",
    "import numpy as np\n",
    "import time\n",
    "time_begin = time.time()\n",
    "# Generate a random non-trivial linear program.\n",
    "m = 15\n",
    "n = 10\n",
    "np.random.seed(1)\n",
    "s0 = np.random.randn(m)\n",
    "lamb0 = np.maximum(-s0, 0)\n",
    "s0 = np.maximum(s0, 0)\n",
    "x0 = np.random.randn(n)\n",
    "A = np.random.randn(m, n)\n",
    "b = A@x0 + s0\n",
    "c = -A.T@lamb0\n",
    "\n",
    "# Define and solve the CVXPY problem.\n",
    "x = cp.Variable(n)\n",
    "prob = cp.Problem(cp.Minimize(c.T@x),\n",
    "                 [A@x <= b])\n",
    "prob.solve()\n",
    "\n",
    "# Print result.\n",
    "print(\"\\nThe optimal value is\", prob.value)\n",
    "print(\"A solution x is\")\n",
    "print(x.value)\n",
    "print(\"A dual solution is\")\n",
    "print(prob.constraints[0].dual_value)\n",
    "\n",
    "time_end = time.time()\n",
    "\n",
    "time = time_end - time_begin\n",
    "\n",
    "print('time:', time)"
   ]
  },
  {
   "cell_type": "markdown",
   "metadata": {},
   "source": [
    "QP"
   ]
  },
  {
   "cell_type": "code",
   "execution_count": 4,
   "metadata": {},
   "outputs": [
    {
     "name": "stdout",
     "output_type": "stream",
     "text": [
      "\n",
      "The optimal value is 86.89141585569921\n",
      "A solution x is\n",
      "[-1.68244521  0.29769913 -2.38772183 -2.79986015  1.18270433 -0.20911897\n",
      " -4.50993526  3.76683701 -0.45770675 -3.78589638]\n",
      "A dual solution corresponding to the inequality constraints is\n",
      "[ 0.          0.          0.          0.          0.         10.45538054\n",
      "  0.          0.          0.         39.67365045  0.          0.\n",
      "  0.         20.79927156  6.54115873]\n",
      "time: 0.01901412010192871\n"
     ]
    }
   ],
   "source": [
    "# Import packages.\n",
    "import cvxpy as cp\n",
    "import numpy as np\n",
    "import time\n",
    "time_begin = time.time()\n",
    "# Generate a random non-trivial quadratic program.\n",
    "m = 15\n",
    "n = 10\n",
    "p = 5\n",
    "np.random.seed(1)\n",
    "P = np.random.randn(n, n)\n",
    "P = P.T@P\n",
    "q = np.random.randn(n)\n",
    "G = np.random.randn(m, n)\n",
    "h = G@np.random.randn(n)\n",
    "A = np.random.randn(p, n)\n",
    "b = np.random.randn(p)\n",
    "\n",
    "# Define and solve the CVXPY problem.\n",
    "x = cp.Variable(n)\n",
    "prob = cp.Problem(cp.Minimize((1/2)*cp.quad_form(x, P) + q.T@x),\n",
    "                 [G@x <= h,\n",
    "                  A@x == b])\n",
    "prob.solve()\n",
    "\n",
    "# Print result.\n",
    "print(\"\\nThe optimal value is\", prob.value)\n",
    "print(\"A solution x is\")\n",
    "print(x.value)\n",
    "print(\"A dual solution corresponding to the inequality constraints is\")\n",
    "print(prob.constraints[0].dual_value)\n",
    "time_end = time.time()\n",
    "\n",
    "time = time_end - time_begin\n",
    "\n",
    "print('time:', time)"
   ]
  },
  {
   "cell_type": "markdown",
   "metadata": {},
   "source": [
    "SOCP"
   ]
  },
  {
   "cell_type": "code",
   "execution_count": 5,
   "metadata": {},
   "outputs": [
    {
     "name": "stdout",
     "output_type": "stream",
     "text": [
      "The optimal value is -9.582695716265807\n",
      "A solution x is\n",
      "[ 1.40303325  2.4194569   1.69146656 -0.26922215  1.30825472 -0.70834842\n",
      "  0.19313706  1.64153496  0.47698583  0.66581033]\n",
      "SOC constraint 0 dual variable solution\n",
      "[array([0.61662526]), array([[ 0.35370661],\n",
      "       [-0.02327185],\n",
      "       [ 0.04253095],\n",
      "       [ 0.06243588],\n",
      "       [ 0.49886837]])]\n",
      "SOC constraint 1 dual variable solution\n",
      "[array([0.35283078]), array([[-0.14301082],\n",
      "       [ 0.16539699],\n",
      "       [-0.22027817],\n",
      "       [ 0.15440264],\n",
      "       [ 0.06571645]])]\n",
      "SOC constraint 2 dual variable solution\n",
      "[array([0.86510445]), array([[-0.114638  ],\n",
      "       [-0.449291  ],\n",
      "       [ 0.37810251],\n",
      "       [-0.6144058 ],\n",
      "       [-0.11377797]])]\n",
      "time: 0.011008977890014648\n"
     ]
    }
   ],
   "source": [
    "# Import packages.\n",
    "import cvxpy as cp\n",
    "import numpy as np\n",
    "import time\n",
    "time_begin = time.time()\n",
    "# Generate a random feasible SOCP.\n",
    "m = 3\n",
    "n = 10\n",
    "p = 5\n",
    "n_i = 5\n",
    "np.random.seed(2)\n",
    "f = np.random.randn(n)\n",
    "A = []\n",
    "b = []\n",
    "c = []\n",
    "d = []\n",
    "x0 = np.random.randn(n)\n",
    "for i in range(m):\n",
    "    A.append(np.random.randn(n_i, n))\n",
    "    b.append(np.random.randn(n_i))\n",
    "    c.append(np.random.randn(n))\n",
    "    d.append(np.linalg.norm(A[i]@x0 + b, 2) - c[i].T@x0)\n",
    "F = np.random.randn(p, n)\n",
    "g = F@x0\n",
    "\n",
    "# Define and solve the CVXPY problem.\n",
    "x = cp.Variable(n)\n",
    "# We use cp.SOC(t, x) to create the SOC constraint ||x||_2 <= t.\n",
    "soc_constraints = [\n",
    "    cp.SOC(c[i].T@x + d[i], A[i]@x + b[i]) for i in range(m)\n",
    "]\n",
    "prob = cp.Problem(cp.Minimize(f.T@x),\n",
    "                  soc_constraints + [F@x == g])\n",
    "prob.solve()\n",
    "\n",
    "# Print result.\n",
    "print(\"The optimal value is\", prob.value)\n",
    "print(\"A solution x is\")\n",
    "print(x.value)\n",
    "for i in range(m):\n",
    "    print(\"SOC constraint %i dual variable solution\" % i)\n",
    "    print(soc_constraints[i].dual_value)\n",
    "time_end = time.time()\n",
    "\n",
    "time = time_end - time_begin\n",
    "\n",
    "print('time:', time)"
   ]
  },
  {
   "cell_type": "code",
   "execution_count": null,
   "metadata": {},
   "outputs": [],
   "source": []
  }
 ],
 "metadata": {
  "kernelspec": {
   "display_name": "Python 3",
   "language": "python",
   "name": "python3"
  },
  "language_info": {
   "codemirror_mode": {
    "name": "ipython",
    "version": 3
   },
   "file_extension": ".py",
   "mimetype": "text/x-python",
   "name": "python",
   "nbconvert_exporter": "python",
   "pygments_lexer": "ipython3",
   "version": "3.8.5"
  }
 },
 "nbformat": 4,
 "nbformat_minor": 4
}
