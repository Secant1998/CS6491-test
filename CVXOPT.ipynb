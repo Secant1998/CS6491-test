{
 "cells": [
  {
   "cell_type": "markdown",
   "metadata": {},
   "source": [
    "Linear"
   ]
  },
  {
   "cell_type": "code",
   "execution_count": 32,
   "metadata": {},
   "outputs": [
    {
     "name": "stdout",
     "output_type": "stream",
     "text": [
      "     pcost       dcost       gap    pres   dres   k/t\n",
      " 0: -1.5035e+01 -4.0539e+01  5e+01  8e-01  2e+00  1e+00\n",
      " 1: -1.5273e+01 -1.6735e+01  2e+00  6e-02  1e-01  4e-01\n",
      " 2: -1.5236e+01 -1.5341e+01  1e-01  4e-03  9e-03  2e-02\n",
      " 3: -1.5221e+01 -1.5223e+01  2e-03  7e-05  2e-04  4e-04\n",
      " 4: -1.5221e+01 -1.5221e+01  2e-05  7e-07  2e-06  4e-06\n",
      " 5: -1.5221e+01 -1.5221e+01  2e-07  7e-09  2e-08  4e-08\n",
      "Optimal solution found.\n",
      "[-1.10e+00]\n",
      "[-1.83e-01]\n",
      "[-8.54e-01]\n",
      "[ 5.44e-02]\n",
      "[ 5.54e-01]\n",
      "[-1.07e+00]\n",
      "[ 1.16e+00]\n",
      "[ 9.26e-01]\n",
      "[ 5.17e-01]\n",
      "[ 9.04e-01]\n",
      "\n",
      "time: 0.004002094268798828\n"
     ]
    }
   ],
   "source": [
    "from cvxopt import matrix, solvers\n",
    "import time\n",
    "import numpy as np\n",
    "time_begin = time.time()\n",
    "# Generate a random non-trivial linear program.\n",
    "m = 15\n",
    "n = 10\n",
    "np.random.seed(1)\n",
    "s0 = np.random.randn(m)\n",
    "lamb0 = np.maximum(-s0, 0)\n",
    "s0 = np.maximum(s0, 0)\n",
    "x0 = np.random.randn(n)\n",
    "A = np.random.randn(m, n)\n",
    "b = A@x0 + s0\n",
    "c = -A.T@lamb0\n",
    "#print(\"A = \")\n",
    "A = matrix(A)\n",
    "#print(A)\n",
    "#print(\"b = \")\n",
    "b = matrix(b)\n",
    "#print(b)\n",
    "#print(\"c = \")\n",
    "c = matrix(c)\n",
    "#print(c)\n",
    "#A = matrix([ [-1.0, -1.0, 0.0, 1.0], [1.0, -1.0, -1.0, -2.0] ])\n",
    "#b = matrix([ 1.0, -2.0, 0.0, 4.0 ])\n",
    "\n",
    "sol=solvers.lp(c,A,b)\n",
    "print(sol['x'])\n",
    "time_end = time.time()\n",
    "\n",
    "time = time_end - time_begin\n",
    "\n",
    "print('time:', time)"
   ]
  },
  {
   "cell_type": "markdown",
   "metadata": {},
   "source": [
    "QP"
   ]
  },
  {
   "cell_type": "code",
   "execution_count": 7,
   "metadata": {},
   "outputs": [
    {
     "name": "stdout",
     "output_type": "stream",
     "text": [
      "     pcost       dcost       gap    pres   dres\n",
      " 0:  1.8835e+01  1.1868e+02  3e+02  2e+00  3e+01\n",
      " 1:  8.8324e+01  9.4294e+01  1e+02  6e-01  1e+01\n",
      " 2:  1.3764e+02  1.3798e+02  6e+01  2e-01  4e+00\n",
      " 3:  2.0129e+02  1.7140e+02  3e+01  8e-03  2e-01\n",
      " 4:  1.8430e+02  1.8306e+02  1e+00  2e-04  3e-03\n",
      " 5:  1.8349e+02  1.8348e+02  1e-02  2e-06  3e-05\n",
      " 6:  1.8348e+02  1.8348e+02  1e-04  2e-08  3e-07\n",
      " 7:  1.8348e+02  1.8348e+02  1e-06  2e-10  3e-09\n",
      "Optimal solution found.\n",
      "[-1.69e+00]\n",
      "[ 2.81e-01]\n",
      "[-2.32e+00]\n",
      "[-2.74e+00]\n",
      "[ 1.19e+00]\n",
      "[-1.42e-01]\n",
      "[-4.40e+00]\n",
      "[ 3.73e+00]\n",
      "[-3.75e-01]\n",
      "[-3.63e+00]\n",
      "\n",
      "time: 0.0050051212310791016\n"
     ]
    }
   ],
   "source": [
    "from cvxopt import matrix, solvers\n",
    "import time\n",
    "import numpy as np\n",
    "time_begin = time.time()\n",
    "m = 15\n",
    "n = 10\n",
    "p = 5\n",
    "np.random.seed(1)\n",
    "P = np.random.randn(n, n)\n",
    "P = P.T@P\n",
    "P = matrix(P)\n",
    "P = 2 * P\n",
    "#print(P)\n",
    "Q = np.random.randn(n)\n",
    "Q = matrix(Q)\n",
    "#print(Q)\n",
    "G = np.random.randn(m, n)\n",
    "G = matrix(G)\n",
    "#print(G)\n",
    "h = G@np.random.randn(n)\n",
    "h = matrix(h)\n",
    "A = np.random.randn(p, n)\n",
    "A = matrix(A)\n",
    "#print(A)\n",
    "b = np.random.randn(p)\n",
    "b = matrix(b)\n",
    "#Q = 2*matrix([ [2, .5], [.5, 1] ])\n",
    "#p = matrix([1.0, 1.0])\n",
    "#G = matrix([[-1.0,0.0],[0.0,-1.0]])\n",
    "#h = matrix([0.0,0.0])\n",
    "#A = matrix([1.0, 1.0], (1,2))\n",
    "#b = matrix(1.0)\n",
    "sol=solvers.qp(P, Q, G, h, A, b)\n",
    "print(sol['x'])\n",
    "\n",
    "time_end = time.time()\n",
    "\n",
    "time = time_end - time_begin\n",
    "\n",
    "print('time:', time)"
   ]
  }
 ],
 "metadata": {
  "kernelspec": {
   "display_name": "Python 3",
   "language": "python",
   "name": "python3"
  },
  "language_info": {
   "codemirror_mode": {
    "name": "ipython",
    "version": 3
   },
   "file_extension": ".py",
   "mimetype": "text/x-python",
   "name": "python",
   "nbconvert_exporter": "python",
   "pygments_lexer": "ipython3",
   "version": "3.8.5"
  }
 },
 "nbformat": 4,
 "nbformat_minor": 4
}
