{
 "cells": [
  {
   "cell_type": "markdown",
   "metadata": {},
   "source": [
    "QP"
   ]
  },
  {
   "cell_type": "code",
   "execution_count": 28,
   "metadata": {},
   "outputs": [
    {
     "name": "stdout",
     "output_type": "stream",
     "text": [
      "-----------------------------------------------------------------\n",
      "           OSQP v0.6.2  -  Operator Splitting QP Solver\n",
      "              (c) Bartolomeo Stellato,  Goran Banjac\n",
      "        University of Oxford  -  Stanford University 2021\n",
      "-----------------------------------------------------------------\n",
      "problem:  variables n = 10, constraints m = 10\n",
      "          nnz(P) + nnz(A) = 155\n",
      "settings: linear system solver = qdldl,\n",
      "          eps_abs = 1.0e-03, eps_rel = 1.0e-03,\n",
      "          eps_prim_inf = 1.0e-04, eps_dual_inf = 1.0e-04,\n",
      "          rho = 1.00e-01 (adaptive),\n",
      "          sigma = 1.00e-06, alpha = 1.00, max_iter = 4000\n",
      "          check_termination: on (interval 25),\n",
      "          scaling: on, scaled_termination: off\n",
      "          warm start: on, polish: off, time_limit: off\n",
      "\n",
      "iter   objective    pri res    dua res    rho        time\n",
      "   1  -4.2828e+00   7.84e+00   5.78e-01   1.00e-01   6.17e-05s\n",
      "  75   2.1225e+00   4.23e-04   1.03e-04   1.22e+00   1.86e-04s\n",
      "\n",
      "status:               solved\n",
      "number of iterations: 75\n",
      "optimal objective:    2.1225\n",
      "run time:             3.69e-04s\n",
      "optimal rho estimate: 2.43e+00\n",
      "\n",
      "time: 0.001001596450805664\n"
     ]
    }
   ],
   "source": [
    "import osqp\n",
    "from numpy import *\n",
    "from scipy import sparse\n",
    "import time\n",
    "time_begin = time.time()\n",
    "m = 15\n",
    "n = 10\n",
    "p = 5\n",
    "np.random.seed(1)\n",
    "P = np.random.randn(n, n)\n",
    "P = P.T@P\n",
    "P = sparse.csc_matrix(P)\n",
    "q = np.random.randn(n)\n",
    "G = np.random.randn(m, n)\n",
    "G = sparse.csc_matrix(P)\n",
    "h = G@np.random.randn(n)\n",
    "#A = np.random.randn(p, n)\n",
    "#b = np.random.randn(p)\n",
    "# Define problem data\n",
    "#P = sparse.csc_matrix([[4, 1], [1, 2]])\n",
    "#q = np.array([1, 1])\n",
    "#A = sparse.csc_matrix([[1, 1], [1, 0], [0, 1]])\n",
    "#l = np.array([1, 0, 0])\n",
    "#u = np.array([1, 0.7, 0.7])\n",
    "\n",
    "# Create an OSQP object\n",
    "prob = osqp.OSQP()\n",
    "\n",
    "# Setup workspace and change alpha parameter\n",
    "prob.setup(P, q, G, h, alpha=1.0)\n",
    "\n",
    "# Solve problem\n",
    "res = prob.solve()\n",
    "time_end = time.time()\n",
    "\n",
    "time = time_end - time_begin\n",
    "\n",
    "print('time:', time)"
   ]
  },
  {
   "cell_type": "markdown",
   "metadata": {},
   "source": [
    "Least Square"
   ]
  },
  {
   "cell_type": "code",
   "execution_count": 31,
   "metadata": {},
   "outputs": [
    {
     "name": "stdout",
     "output_type": "stream",
     "text": [
      "-----------------------------------------------------------------\n",
      "           OSQP v0.6.2  -  Operator Splitting QP Solver\n",
      "              (c) Bartolomeo Stellato,  Goran Banjac\n",
      "        University of Oxford  -  Stanford University 2021\n",
      "-----------------------------------------------------------------\n",
      "problem:  variables n = 35, constraints m = 35\n",
      "          nnz(P) + nnz(A) = 265\n",
      "settings: linear system solver = qdldl,\n",
      "          eps_abs = 1.0e-03, eps_rel = 1.0e-03,\n",
      "          eps_prim_inf = 1.0e-04, eps_dual_inf = 1.0e-04,\n",
      "          rho = 1.00e-01 (adaptive),\n",
      "          sigma = 1.00e-06, alpha = 1.60, max_iter = 4000\n",
      "          check_termination: on (interval 25),\n",
      "          scaling: on, scaled_termination: off\n",
      "          warm start: on, polish: off, time_limit: off\n",
      "\n",
      "iter   objective    pri res    dua res    rho        time\n",
      "   1   0.0000e+00   1.46e+00   2.61e+02   1.00e-01   9.39e-05s\n",
      " 100   3.6540e+00   6.74e-04   9.43e-05   8.44e-01   2.45e-04s\n",
      "\n",
      "status:               solved\n",
      "number of iterations: 100\n",
      "optimal objective:    3.6540\n",
      "run time:             2.88e-04s\n",
      "optimal rho estimate: 2.26e+00\n",
      "\n",
      "time: 0.003003358840942383\n"
     ]
    }
   ],
   "source": [
    "import osqp\n",
    "import numpy as np\n",
    "import scipy as sp\n",
    "from scipy import sparse\n",
    "\n",
    "import time\n",
    "time_begin = time.time()\n",
    "\n",
    "# Generate problem data\n",
    "sp.random.seed(1)\n",
    "m = 20\n",
    "n = 15\n",
    "Ad = sparse.random(m, n, density=0.7, format='csc')\n",
    "b = np.random.randn(m)\n",
    "\n",
    "# OSQP data\n",
    "P = sparse.block_diag([sparse.csc_matrix((n, n)), sparse.eye(m)], format='csc')\n",
    "q = np.zeros(n+m)\n",
    "A = sparse.vstack([\n",
    "        sparse.hstack([Ad, -sparse.eye(m)]),\n",
    "        sparse.hstack([sparse.eye(n), sparse.csc_matrix((n, m))])], format='csc')\n",
    "l = np.hstack([b, np.zeros(n)])\n",
    "u = np.hstack([b, np.ones(n)])\n",
    "\n",
    "# Create an OSQP object\n",
    "prob = osqp.OSQP()\n",
    "\n",
    "# Setup workspace\n",
    "prob.setup(P, q, A, l, u)\n",
    "\n",
    "# Solve problem\n",
    "res = prob.solve()\n",
    "\n",
    "time_end = time.time()\n",
    "\n",
    "time = time_end - time_begin\n",
    "\n",
    "print('time:', time)"
   ]
  }
 ],
 "metadata": {
  "kernelspec": {
   "display_name": "Python 3",
   "language": "python",
   "name": "python3"
  },
  "language_info": {
   "codemirror_mode": {
    "name": "ipython",
    "version": 3
   },
   "file_extension": ".py",
   "mimetype": "text/x-python",
   "name": "python",
   "nbconvert_exporter": "python",
   "pygments_lexer": "ipython3",
   "version": "3.8.5"
  }
 },
 "nbformat": 4,
 "nbformat_minor": 4
}
